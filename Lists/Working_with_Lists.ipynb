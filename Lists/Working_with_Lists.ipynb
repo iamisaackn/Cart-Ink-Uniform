{
  "cells": [
    {
      "cell_type": "markdown",
      "metadata": {
        "id": "view-in-github",
        "colab_type": "text"
      },
      "source": [
        "<a href=\"https://colab.research.google.com/github/iamisaackn/Cart-Ink-Uniform/blob/main/Lists/Working_with_Lists.ipynb\" target=\"_parent\"><img src=\"https://colab.research.google.com/assets/colab-badge.svg\" alt=\"Open In Colab\"/></a>"
      ]
    },
    {
      "cell_type": "markdown",
      "metadata": {
        "id": "Z49LZHGSPUdQ"
      },
      "source": [
        "# Working with Lists\n",
        "\n",
        "## Introduction\n",
        "So far, we have worked with individual pieces of data like the string 'hello'. In this lesson, we'll see how we can group pieces of data together using lists.\n",
        "\n",
        "## Objectives\n",
        "\n",
        "You will be able to:\n",
        "\n",
        "* Use indexing to access elements in a list\n",
        "* Apply list methods to make changes to a list\n",
        "* Change elements of a list\n",
        "\n",
        "## What Are Lists?\n",
        "\n",
        "A list is our first form of a collection. A collection is just a way of grouping multiple pieces of data together. For example, let's consider the top cities for travel according to the magazine Travel and Leisure. Here is how we usually see a list of travel locations in a document or on a website.\n",
        "\n",
        "#### Travel Locations\n",
        "1. Solta\n",
        "2. Greenville\n",
        "3. Buenos Aires\n",
        "4. Los Cabos\n",
        "5. Walla Walla Valley\n",
        "6. Marakesh\n",
        "7. Albuquerque\n",
        "8. Archipelago Sea\n",
        "9. Iguazu Falls\n",
        "10. Salina Island\n",
        "11. Toronto\n",
        "12. Pyeongchang\n",
        "\n",
        "Here is what that list looks like as a Python `list`:"
      ]
    },
    {
      "cell_type": "code",
      "execution_count": null,
      "metadata": {
        "id": "YCXDD9yAPUdS",
        "outputId": "7cc5ffb1-4ae5-47c4-c5ae-e508b961b092"
      },
      "outputs": [
        {
          "data": {
            "text/plain": [
              "['Solta',\n",
              " 'Greenville',\n",
              " 'Buenos Aires',\n",
              " 'Los Cabos',\n",
              " 'Walla Walla Valley',\n",
              " 'Marakesh',\n",
              " 'Albuquerque',\n",
              " 'Archipelago Sea',\n",
              " 'Iguazu Falls',\n",
              " 'Salina Island',\n",
              " 'Toronto',\n",
              " 'Pyeongchang']"
            ]
          },
          "execution_count": 1,
          "metadata": {},
          "output_type": "execute_result"
        }
      ],
      "source": [
        "['Solta', 'Greenville', 'Buenos Aires', 'Los Cabos', 'Walla Walla Valley', 'Marakesh', 'Albuquerque', 'Archipelago Sea', 'Iguazu Falls', 'Salina Island', 'Toronto', 'Pyeongchang']"
      ]
    },
    {
      "cell_type": "markdown",
      "metadata": {
        "id": "_TVUc6roPUdU"
      },
      "source": [
        "We indicate that we are initializing a `list` with an opening bracket, `[`, and we end the list with a closing bracket `]`. We separate each list item, also called an element, with a comma."
      ]
    },
    {
      "cell_type": "code",
      "execution_count": null,
      "metadata": {
        "id": "rEhpXcuLPUdU",
        "outputId": "2b74437a-ec2c-42b8-db3e-0bb4b6f20bd7"
      },
      "outputs": [
        {
          "data": {
            "text/plain": [
              "['Croatia',\n",
              " 'USA',\n",
              " 'Argentina',\n",
              " 'Mexico',\n",
              " 'USA',\n",
              " 'Morocco',\n",
              " 'New Mexico',\n",
              " 'Finland',\n",
              " 'Argentina',\n",
              " 'Italy',\n",
              " 'Canada',\n",
              " 'South Korea']"
            ]
          },
          "execution_count": 2,
          "metadata": {},
          "output_type": "execute_result"
        }
      ],
      "source": [
        "['Croatia', 'USA', 'Argentina', 'Mexico', 'USA', 'Morocco', 'New Mexico', 'Finland', 'Argentina', 'Italy', 'Canada', 'South Korea']"
      ]
    },
    {
      "cell_type": "markdown",
      "metadata": {
        "id": "kjrT1z2vPUdU"
      },
      "source": [
        "We can, of course, assign lists to variables and later retrieve the elements of lists using the variable names."
      ]
    },
    {
      "cell_type": "code",
      "execution_count": null,
      "metadata": {
        "id": "9Ozm2VZRPUdU"
      },
      "outputs": [],
      "source": [
        "top_travel_cities = ['Solta', 'Greenville', 'Buenos Aires', 'Los Cabos', 'Walla Walla Valley', 'Marakesh', 'Albuquerque', 'Archipelago Sea', 'Iguazu Falls', 'Salina Island', 'Toronto', 'Pyeongchang']"
      ]
    },
    {
      "cell_type": "code",
      "execution_count": null,
      "metadata": {
        "id": "2KBtSVKrPUdU",
        "outputId": "38ac2c46-99d8-459b-c10d-0d0a0d542660"
      },
      "outputs": [
        {
          "data": {
            "text/plain": [
              "['Solta',\n",
              " 'Greenville',\n",
              " 'Buenos Aires',\n",
              " 'Los Cabos',\n",
              " 'Walla Walla Valley',\n",
              " 'Marakesh',\n",
              " 'Albuquerque',\n",
              " 'Archipelago Sea',\n",
              " 'Iguazu Falls',\n",
              " 'Salina Island',\n",
              " 'Toronto',\n",
              " 'Pyeongchang']"
            ]
          },
          "execution_count": 4,
          "metadata": {},
          "output_type": "execute_result"
        }
      ],
      "source": [
        "top_travel_cities"
      ]
    },
    {
      "cell_type": "code",
      "execution_count": null,
      "metadata": {
        "id": "Xk6lbddKPUdV"
      },
      "outputs": [],
      "source": [
        "countries_of_top_cities = ['Croatia', 'USA', 'Argentina', 'Mexico', 'USA', 'Morocco', 'New Mexico', 'Finland', 'Argentina', 'Italy', 'Canada', 'South Korea']"
      ]
    },
    {
      "cell_type": "markdown",
      "metadata": {
        "id": "5to_nqxsPUdV"
      },
      "source": [
        "## Accessing Elements of Lists\n",
        "\n",
        "Now our `top_travel_cities` list contains multiple elements, and just like we are used to list elements having a rank or number associated with them...\n",
        "\n",
        "1. Solta\n",
        "2. Greenville\n",
        "3. Buenos Aires\n",
        "\n",
        "...a list in Python also assigns a number to each element."
      ]
    },
    {
      "cell_type": "code",
      "execution_count": null,
      "metadata": {
        "id": "nZKBdUTsPUdV",
        "outputId": "c5d80417-190d-4fcc-e9dd-c81bf38107ae"
      },
      "outputs": [
        {
          "data": {
            "text/plain": [
              "['Solta',\n",
              " 'Greenville',\n",
              " 'Buenos Aires',\n",
              " 'Los Cabos',\n",
              " 'Walla Walla Valley',\n",
              " 'Marakesh',\n",
              " 'Albuquerque',\n",
              " 'Archipelago Sea',\n",
              " 'Iguazu Falls',\n",
              " 'Salina Island',\n",
              " 'Toronto',\n",
              " 'Pyeongchang']"
            ]
          },
          "execution_count": 6,
          "metadata": {},
          "output_type": "execute_result"
        }
      ],
      "source": [
        "top_travel_cities"
      ]
    },
    {
      "cell_type": "code",
      "execution_count": null,
      "metadata": {
        "id": "9pvho7a7PUdV",
        "outputId": "4407ff8c-fb92-418c-de4a-fdc856f604c8"
      },
      "outputs": [
        {
          "data": {
            "text/plain": [
              "'Solta'"
            ]
          },
          "execution_count": 7,
          "metadata": {},
          "output_type": "execute_result"
        }
      ],
      "source": [
        "top_travel_cities[0]"
      ]
    },
    {
      "cell_type": "markdown",
      "metadata": {
        "id": "2AX99eTEPUdV"
      },
      "source": [
        "In the above line we are referencing a list and then using the brackets to access a specific element of our list, the first element.  We access elements in a list with the `index`, and there is a separate index for each element in the list.  It begins at the number **zero** (not the number 1 as you might expect). Like many modern programming languages , Python uses a \"zero-indexed\" numbering scheme for collections like lists. The value then increases by 1 for every element thereafter.\n",
        "\n",
        "So to access the second element we write `top_travel_cities[1]`, and the third element is `top_travel_cities[2]`."
      ]
    },
    {
      "cell_type": "code",
      "execution_count": null,
      "metadata": {
        "id": "Q07c5BDoPUdV",
        "outputId": "451d782a-0ba7-4dcf-9912-5947c4ae897d"
      },
      "outputs": [
        {
          "data": {
            "text/plain": [
              "'Buenos Aires'"
            ]
          },
          "execution_count": 8,
          "metadata": {},
          "output_type": "execute_result"
        }
      ],
      "source": [
        "top_travel_cities[2]"
      ]
    },
    {
      "cell_type": "markdown",
      "metadata": {
        "id": "1cE71ewMPUdW"
      },
      "source": [
        "How would we access the last element?  Well, we could count all of the elements in the list, and `Pyeongchang` would just be one less than that. Or we can ask Python to start from the end and move back one:"
      ]
    },
    {
      "cell_type": "code",
      "execution_count": null,
      "metadata": {
        "id": "eEPsMRccPUdW",
        "outputId": "5e599df9-303c-4fa0-b79e-67766c086ee6"
      },
      "outputs": [
        {
          "data": {
            "text/plain": [
              "'Pyeongchang'"
            ]
          },
          "execution_count": 9,
          "metadata": {},
          "output_type": "execute_result"
        }
      ],
      "source": [
        "top_travel_cities[-1]"
      ]
    },
    {
      "cell_type": "markdown",
      "metadata": {
        "id": "w02l2eaEPUdW"
      },
      "source": [
        "And we can move back as many as we want."
      ]
    },
    {
      "cell_type": "code",
      "execution_count": null,
      "metadata": {
        "id": "WZu14KzZPUdW",
        "outputId": "72862059-a43b-4363-b355-2b9740e01673"
      },
      "outputs": [
        {
          "data": {
            "text/plain": [
              "'Toronto'"
            ]
          },
          "execution_count": 10,
          "metadata": {},
          "output_type": "execute_result"
        }
      ],
      "source": [
        "top_travel_cities[-2]"
      ]
    },
    {
      "cell_type": "markdown",
      "metadata": {
        "id": "q14FxUi6PUdW"
      },
      "source": [
        "Each element in our list is a string, so, we can always set an element of our string equal to a variable."
      ]
    },
    {
      "cell_type": "code",
      "execution_count": null,
      "metadata": {
        "id": "WPZDn0eDPUdW",
        "outputId": "64036265-8b97-43c8-bca2-5ab3fdd3be6b"
      },
      "outputs": [
        {
          "data": {
            "text/plain": [
              "'Toronto'"
            ]
          },
          "execution_count": 11,
          "metadata": {},
          "output_type": "execute_result"
        }
      ],
      "source": [
        "top_canadian_city = top_travel_cities[-2]\n",
        "top_canadian_city"
      ]
    },
    {
      "cell_type": "code",
      "execution_count": null,
      "metadata": {
        "id": "XTozVounPUdW",
        "outputId": "b3271971-c274-4f58-9244-2a38be100d4f"
      },
      "outputs": [
        {
          "data": {
            "text/plain": [
              "str"
            ]
          },
          "execution_count": 12,
          "metadata": {},
          "output_type": "execute_result"
        }
      ],
      "source": [
        "type(top_canadian_city)"
      ]
    },
    {
      "cell_type": "markdown",
      "metadata": {
        "id": "EUzmcVVPPUdW"
      },
      "source": [
        "Now we have a variable of `top_canadian_city`, equal to the string 'Toronto', and a variable of `top_travel_cities` equal to the list of cities.  "
      ]
    },
    {
      "cell_type": "code",
      "execution_count": null,
      "metadata": {
        "id": "tAg-g5SoPUdW",
        "outputId": "dab84709-905c-45c5-bd54-12273088e6fd"
      },
      "outputs": [
        {
          "data": {
            "text/plain": [
              "['Solta',\n",
              " 'Greenville',\n",
              " 'Buenos Aires',\n",
              " 'Los Cabos',\n",
              " 'Walla Walla Valley',\n",
              " 'Marakesh',\n",
              " 'Albuquerque',\n",
              " 'Archipelago Sea',\n",
              " 'Iguazu Falls',\n",
              " 'Salina Island',\n",
              " 'Toronto',\n",
              " 'Pyeongchang']"
            ]
          },
          "execution_count": 13,
          "metadata": {},
          "output_type": "execute_result"
        }
      ],
      "source": [
        "top_travel_cities"
      ]
    },
    {
      "cell_type": "code",
      "execution_count": null,
      "metadata": {
        "id": "kyEUwuMSPUdW",
        "outputId": "0ab84dc2-c55a-492a-81f2-bb86ddfda123"
      },
      "outputs": [
        {
          "data": {
            "text/plain": [
              "list"
            ]
          },
          "execution_count": 14,
          "metadata": {},
          "output_type": "execute_result"
        }
      ],
      "source": [
        "type(top_travel_cities)"
      ]
    },
    {
      "cell_type": "markdown",
      "metadata": {
        "id": "CD3ze1wBPUdX"
      },
      "source": [
        "## Accessing Multiple Elements\n",
        "\n",
        "Now imagine that we don't want to access just one element of a list, but multiple elements at once.  Python allows us to do that as well:"
      ]
    },
    {
      "cell_type": "code",
      "execution_count": null,
      "metadata": {
        "id": "KuOzPNWTPUdX",
        "outputId": "33316f0b-96d0-4066-ad8e-2d13d92f17d5"
      },
      "outputs": [
        {
          "data": {
            "text/plain": [
              "['Solta', 'Greenville']"
            ]
          },
          "execution_count": 15,
          "metadata": {},
          "output_type": "execute_result"
        }
      ],
      "source": [
        "top_travel_cities[0:2]"
      ]
    },
    {
      "cell_type": "markdown",
      "metadata": {
        "id": "4-cDcd7XPUdX"
      },
      "source": [
        "As we can see from the above example, we can access elements of a list by placing two numbers separated by a colon inside of our brackets. The first number indicates the index of the first element we wish to retrieve.  \n",
        "\n",
        "The second number could represent the number of elements we want to retrieve, or maybe it represents the stopping index of the elements that we are retrieving. Looking at our `top_travel_cities` it could be either."
      ]
    },
    {
      "cell_type": "code",
      "execution_count": null,
      "metadata": {
        "id": "yYAw8S_-PUdX",
        "outputId": "d857af36-3b92-47c6-cf56-1fd6b820d791"
      },
      "outputs": [
        {
          "data": {
            "text/plain": [
              "['Solta',\n",
              " 'Greenville',\n",
              " 'Buenos Aires',\n",
              " 'Los Cabos',\n",
              " 'Walla Walla Valley',\n",
              " 'Marakesh',\n",
              " 'Albuquerque',\n",
              " 'Archipelago Sea',\n",
              " 'Iguazu Falls',\n",
              " 'Salina Island',\n",
              " 'Toronto',\n",
              " 'Pyeongchang']"
            ]
          },
          "execution_count": 16,
          "metadata": {},
          "output_type": "execute_result"
        }
      ],
      "source": [
        "top_travel_cities"
      ]
    },
    {
      "cell_type": "markdown",
      "metadata": {
        "id": "dqc_2ReGPUdX"
      },
      "source": [
        "Let's try a different experiment to answer our question."
      ]
    },
    {
      "cell_type": "code",
      "execution_count": null,
      "metadata": {
        "id": "LKFvBk4OPUdX",
        "outputId": "e56a9b74-5f51-45a0-85f3-00dd8c90e9e9"
      },
      "outputs": [
        {
          "data": {
            "text/plain": [
              "['Walla Walla Valley']"
            ]
          },
          "execution_count": 17,
          "metadata": {},
          "output_type": "execute_result"
        }
      ],
      "source": [
        "top_travel_cities[4:5]"
      ]
    },
    {
      "cell_type": "markdown",
      "metadata": {
        "id": "3jAayrjwPUdX"
      },
      "source": [
        "Ok, so that second number is not representing the number of elements we want retrieved. Instead it must be the index at which we stop our selection of elements."
      ]
    },
    {
      "cell_type": "code",
      "execution_count": null,
      "metadata": {
        "id": "EpaBdpeiPUdX",
        "outputId": "bbd1b8c7-bbaa-4e4c-af5c-24952cbbb90e"
      },
      "outputs": [
        {
          "data": {
            "text/plain": [
              "['Walla Walla Valley', 'Marakesh']"
            ]
          },
          "execution_count": 18,
          "metadata": {},
          "output_type": "execute_result"
        }
      ],
      "source": [
        "top_travel_cities[4:6]"
      ]
    },
    {
      "cell_type": "markdown",
      "metadata": {
        "id": "1EGF9cx3PUdX"
      },
      "source": [
        "This operation is called `slice`.  So, we can say we are `slicing` the elements with indices 4 and 5 in the line above.  Note that even though we are `slicing` elements, our list remains intact."
      ]
    },
    {
      "cell_type": "code",
      "execution_count": null,
      "metadata": {
        "id": "mR8k07zFPUdX",
        "outputId": "0c61509b-463b-467c-9110-a3c1f14e18ab"
      },
      "outputs": [
        {
          "data": {
            "text/plain": [
              "['Solta',\n",
              " 'Greenville',\n",
              " 'Buenos Aires',\n",
              " 'Los Cabos',\n",
              " 'Walla Walla Valley',\n",
              " 'Marakesh',\n",
              " 'Albuquerque',\n",
              " 'Archipelago Sea',\n",
              " 'Iguazu Falls',\n",
              " 'Salina Island',\n",
              " 'Toronto',\n",
              " 'Pyeongchang']"
            ]
          },
          "execution_count": 19,
          "metadata": {},
          "output_type": "execute_result"
        }
      ],
      "source": [
        "top_travel_cities"
      ]
    },
    {
      "cell_type": "markdown",
      "metadata": {
        "id": "yoler5gzPUdX"
      },
      "source": [
        "In programming terms, we would say that slicing elements is non-destructive, because it does not change the underlying data structure.  We can do it as many times as we like, and our `top_travel_cities` array remains unchanged.  If we wish to store that slice of elements, we can store it in another variable."
      ]
    },
    {
      "cell_type": "code",
      "execution_count": null,
      "metadata": {
        "id": "bojPwqxxPUdX",
        "outputId": "4b2ec5cc-de9f-4a1a-e83e-6dae1021ea20"
      },
      "outputs": [
        {
          "data": {
            "text/plain": [
              "['Solta', 'Greenville']"
            ]
          },
          "execution_count": 20,
          "metadata": {},
          "output_type": "execute_result"
        }
      ],
      "source": [
        "top_two = top_travel_cities[0:2]\n",
        "top_two"
      ]
    },
    {
      "cell_type": "markdown",
      "metadata": {
        "id": "vnZ6V0gzPUdX"
      },
      "source": [
        "Now we have another variable called `top_two` that points to an array which contains an array of elements equal to the first two elements of `top_travel_cities`.\n",
        "\n",
        "## Changing elements with destructive methods\n",
        "\n",
        "Now that we can read and select certain elements from lists, let's work on changing these lists. To add a new element to a list, we can use the `append` method."
      ]
    },
    {
      "cell_type": "code",
      "execution_count": null,
      "metadata": {
        "id": "fDQ5fGpZPUdX"
      },
      "outputs": [],
      "source": [
        "top_travel_cities.append('San Antonio')"
      ]
    },
    {
      "cell_type": "markdown",
      "metadata": {
        "id": "Azt3y5YYPUdY"
      },
      "source": [
        "Now let's take another look at `top_travel_cities`."
      ]
    },
    {
      "cell_type": "code",
      "execution_count": null,
      "metadata": {
        "id": "CkVyt4iCPUdY",
        "outputId": "d7018083-26bc-4689-a99a-30cc6643d612"
      },
      "outputs": [
        {
          "data": {
            "text/plain": [
              "['Solta',\n",
              " 'Greenville',\n",
              " 'Buenos Aires',\n",
              " 'Los Cabos',\n",
              " 'Walla Walla Valley',\n",
              " 'Marakesh',\n",
              " 'Albuquerque',\n",
              " 'Archipelago Sea',\n",
              " 'Iguazu Falls',\n",
              " 'Salina Island',\n",
              " 'Toronto',\n",
              " 'Pyeongchang',\n",
              " 'San Antonio']"
            ]
          },
          "execution_count": 22,
          "metadata": {},
          "output_type": "execute_result"
        }
      ],
      "source": [
        "top_travel_cities"
      ]
    },
    {
      "cell_type": "markdown",
      "metadata": {
        "id": "J3cRJRWZPUdY"
      },
      "source": [
        "You will see that 'San Antonio' has been added to the list.  Note that unlike slice, `append` is destructive.  That is, it changes our underlying data structure.  Every time we execute the `append` method, another element is added to our list.   Now what if we accidentally add 'San Antonio' a second time to our list."
      ]
    },
    {
      "cell_type": "code",
      "execution_count": null,
      "metadata": {
        "id": "5JuT0lhwPUdY",
        "outputId": "1b11cbc7-6b49-410d-8da6-56ec7d38c16f"
      },
      "outputs": [
        {
          "data": {
            "text/plain": [
              "['Solta',\n",
              " 'Greenville',\n",
              " 'Buenos Aires',\n",
              " 'Los Cabos',\n",
              " 'Walla Walla Valley',\n",
              " 'Marakesh',\n",
              " 'Albuquerque',\n",
              " 'Archipelago Sea',\n",
              " 'Iguazu Falls',\n",
              " 'Salina Island',\n",
              " 'Toronto',\n",
              " 'Pyeongchang',\n",
              " 'San Antonio',\n",
              " 'San Antonio']"
            ]
          },
          "execution_count": 23,
          "metadata": {},
          "output_type": "execute_result"
        }
      ],
      "source": [
        "top_travel_cities.append('San Antonio')\n",
        "top_travel_cities"
      ]
    },
    {
      "cell_type": "markdown",
      "metadata": {
        "id": "1X3ui0zRPUdY"
      },
      "source": [
        "If you press shift+enter on the above line of code, we will have `'San Antonio'` as the last two elements of the list.  Luckily, we have the `pop` method to remove one of them.  The `pop` method is available to call on any list and removes the last element from the list. As you can see below, calling `pop` removed our last element."
      ]
    },
    {
      "cell_type": "code",
      "execution_count": null,
      "metadata": {
        "id": "b6Eq3MQDPUdZ",
        "outputId": "5876fdb9-ff66-41fe-cdd0-04afdf0f9f0f"
      },
      "outputs": [
        {
          "data": {
            "text/plain": [
              "'San Antonio'"
            ]
          },
          "execution_count": 24,
          "metadata": {},
          "output_type": "execute_result"
        }
      ],
      "source": [
        "top_travel_cities.pop()"
      ]
    },
    {
      "cell_type": "markdown",
      "metadata": {
        "id": "B6KaFywLPUdZ"
      },
      "source": [
        "Now if we want to change an element from the middle of the list, we can access and then reassign that element. For example, let's change 'Walla Walla Valley' to the number 5."
      ]
    },
    {
      "cell_type": "code",
      "execution_count": null,
      "metadata": {
        "id": "qeZ1Ky_9PUdZ",
        "outputId": "5ee2867e-9418-4274-8997-153504cfcb04"
      },
      "outputs": [
        {
          "data": {
            "text/plain": [
              "'Walla Walla Valley'"
            ]
          },
          "execution_count": 25,
          "metadata": {},
          "output_type": "execute_result"
        }
      ],
      "source": [
        "top_travel_cities[4]"
      ]
    },
    {
      "cell_type": "code",
      "execution_count": null,
      "metadata": {
        "id": "-8HJ8Q8OPUdZ"
      },
      "outputs": [],
      "source": [
        "top_travel_cities[4] = 5"
      ]
    },
    {
      "cell_type": "code",
      "execution_count": null,
      "metadata": {
        "id": "tEcez3D9PUdZ",
        "outputId": "9480f53c-1387-4bfe-9c98-820dc40d9187"
      },
      "outputs": [
        {
          "data": {
            "text/plain": [
              "['Solta',\n",
              " 'Greenville',\n",
              " 'Buenos Aires',\n",
              " 'Los Cabos',\n",
              " 5,\n",
              " 'Marakesh',\n",
              " 'Albuquerque',\n",
              " 'Archipelago Sea',\n",
              " 'Iguazu Falls',\n",
              " 'Salina Island',\n",
              " 'Toronto',\n",
              " 'Pyeongchang',\n",
              " 'San Antonio']"
            ]
          },
          "execution_count": 27,
          "metadata": {},
          "output_type": "execute_result"
        }
      ],
      "source": [
        "top_travel_cities"
      ]
    },
    {
      "cell_type": "markdown",
      "metadata": {
        "id": "RxwMYq_vPUdZ"
      },
      "source": [
        "Our list is changed, but now it's not as sensible, so let's change it back."
      ]
    },
    {
      "cell_type": "code",
      "execution_count": null,
      "metadata": {
        "id": "mdUQOmZbPUdZ"
      },
      "outputs": [],
      "source": [
        "top_travel_cities[4] = 'Walla Walla Valley'"
      ]
    },
    {
      "cell_type": "markdown",
      "metadata": {
        "id": "fCxz9Ut7PUdZ"
      },
      "source": [
        "With that, our list is back to the way we like it."
      ]
    },
    {
      "cell_type": "code",
      "execution_count": null,
      "metadata": {
        "id": "ySQcAGGkPUdZ",
        "outputId": "628711ae-f2f8-47b7-c5e2-a2a85ccb28f6"
      },
      "outputs": [
        {
          "data": {
            "text/plain": [
              "['Solta',\n",
              " 'Greenville',\n",
              " 'Buenos Aires',\n",
              " 'Los Cabos',\n",
              " 'Walla Walla Valley',\n",
              " 'Marakesh',\n",
              " 'Albuquerque',\n",
              " 'Archipelago Sea',\n",
              " 'Iguazu Falls',\n",
              " 'Salina Island',\n",
              " 'Toronto',\n",
              " 'Pyeongchang',\n",
              " 'San Antonio']"
            ]
          },
          "execution_count": 29,
          "metadata": {},
          "output_type": "execute_result"
        }
      ],
      "source": [
        "top_travel_cities"
      ]
    },
    {
      "cell_type": "markdown",
      "metadata": {
        "id": "2VrubDC4PUdZ"
      },
      "source": [
        "## Finding Unique elements and length of lists\n",
        "\n",
        "If we are not sure whether there are repeated elements, we can use Python to get a unique list."
      ]
    },
    {
      "cell_type": "code",
      "execution_count": null,
      "metadata": {
        "id": "_WxTTxKiPUdZ",
        "outputId": "3581f484-be0f-453b-e0a4-5188f2ad813a"
      },
      "outputs": [
        {
          "data": {
            "text/plain": [
              "['Solta',\n",
              " 'Greenville',\n",
              " 'Buenos Aires',\n",
              " 'Los Cabos',\n",
              " 'Walla Walla Valley',\n",
              " 'Marakesh',\n",
              " 'Albuquerque',\n",
              " 'Archipelago Sea',\n",
              " 'Iguazu Falls',\n",
              " 'Salina Island',\n",
              " 'Toronto',\n",
              " 'Pyeongchang',\n",
              " 'San Antonio',\n",
              " 'Solta']"
            ]
          },
          "execution_count": 30,
          "metadata": {},
          "output_type": "execute_result"
        }
      ],
      "source": [
        "top_travel_cities.append('Solta')\n",
        "top_travel_cities"
      ]
    },
    {
      "cell_type": "markdown",
      "metadata": {
        "id": "qLg_uSR2PUdZ"
      },
      "source": [
        "For example, now that we have added Solta to the end of our list, Solta appears twice.\n",
        "\n",
        "Well to see a unique list of the elements, we can call the `set` function. A set is a different type collection in Python.\n",
        "A set is just like a list, except elements do not have order and each element appears just once."
      ]
    },
    {
      "cell_type": "code",
      "execution_count": null,
      "metadata": {
        "id": "mT75AbtDPUdZ",
        "outputId": "e992b8b8-5288-4b82-a3af-bdd7cf080800"
      },
      "outputs": [
        {
          "data": {
            "text/plain": [
              "{'Albuquerque',\n",
              " 'Archipelago Sea',\n",
              " 'Buenos Aires',\n",
              " 'Greenville',\n",
              " 'Iguazu Falls',\n",
              " 'Los Cabos',\n",
              " 'Marakesh',\n",
              " 'Pyeongchang',\n",
              " 'Salina Island',\n",
              " 'San Antonio',\n",
              " 'Solta',\n",
              " 'Toronto',\n",
              " 'Walla Walla Valley'}"
            ]
          },
          "execution_count": 31,
          "metadata": {},
          "output_type": "execute_result"
        }
      ],
      "source": [
        "unique_travel_cities = set(top_travel_cities)\n",
        "unique_travel_cities"
      ]
    },
    {
      "cell_type": "markdown",
      "metadata": {
        "id": "ppQcJPSePUda"
      },
      "source": [
        "The `set` function is non-destructive on our list."
      ]
    },
    {
      "cell_type": "code",
      "execution_count": null,
      "metadata": {
        "id": "261p8MGKPUda",
        "outputId": "151d5c3a-ffe2-4c95-fd3b-4f2eceee9733"
      },
      "outputs": [
        {
          "data": {
            "text/plain": [
              "['Solta',\n",
              " 'Greenville',\n",
              " 'Buenos Aires',\n",
              " 'Los Cabos',\n",
              " 'Walla Walla Valley',\n",
              " 'Marakesh',\n",
              " 'Albuquerque',\n",
              " 'Archipelago Sea',\n",
              " 'Iguazu Falls',\n",
              " 'Salina Island',\n",
              " 'Toronto',\n",
              " 'Pyeongchang',\n",
              " 'San Antonio',\n",
              " 'Solta']"
            ]
          },
          "execution_count": 32,
          "metadata": {},
          "output_type": "execute_result"
        }
      ],
      "source": [
        "top_travel_cities"
      ]
    },
    {
      "cell_type": "markdown",
      "metadata": {
        "id": "m2R9RZlcPUda"
      },
      "source": [
        " So here, when we convert our list into a set, our set just consists of the unique elements.  But unfortunately this structure is a set, not a list."
      ]
    },
    {
      "cell_type": "code",
      "execution_count": null,
      "metadata": {
        "id": "GjRq6Qm8PUda",
        "outputId": "ac7c2865-d25f-40a1-ee71-6e5f95cb13f5"
      },
      "outputs": [
        {
          "data": {
            "text/plain": [
              "set"
            ]
          },
          "execution_count": 33,
          "metadata": {},
          "output_type": "execute_result"
        }
      ],
      "source": [
        "type(unique_travel_cities)"
      ]
    },
    {
      "cell_type": "markdown",
      "metadata": {
        "id": "L34IbDrNPUda"
      },
      "source": [
        "So let's convert this set, which has a unique list of our travel cities, into a list."
      ]
    },
    {
      "cell_type": "code",
      "execution_count": null,
      "metadata": {
        "id": "7OJMgeHLPUda"
      },
      "outputs": [],
      "source": [
        "unique_travel_cities = list(unique_travel_cities)"
      ]
    },
    {
      "cell_type": "code",
      "execution_count": null,
      "metadata": {
        "id": "V3EqADHCPUda",
        "outputId": "a3b25e9c-d029-4f1d-8ce3-97d1dae00ad3"
      },
      "outputs": [
        {
          "data": {
            "text/plain": [
              "list"
            ]
          },
          "execution_count": 35,
          "metadata": {},
          "output_type": "execute_result"
        }
      ],
      "source": [
        "type(unique_travel_cities)"
      ]
    },
    {
      "cell_type": "markdown",
      "metadata": {
        "id": "mu7_RIrLPUda"
      },
      "source": [
        "So the array of `unique_travel_cities` is now a unique list."
      ]
    },
    {
      "cell_type": "code",
      "execution_count": null,
      "metadata": {
        "id": "NPB9Ft2NPUda",
        "outputId": "cdacd775-0ffa-434d-ce68-6319e9b91efa"
      },
      "outputs": [
        {
          "data": {
            "text/plain": [
              "['Archipelago Sea',\n",
              " 'Salina Island',\n",
              " 'Toronto',\n",
              " 'Marakesh',\n",
              " 'Greenville',\n",
              " 'San Antonio',\n",
              " 'Los Cabos',\n",
              " 'Pyeongchang',\n",
              " 'Walla Walla Valley',\n",
              " 'Albuquerque',\n",
              " 'Solta',\n",
              " 'Iguazu Falls',\n",
              " 'Buenos Aires']"
            ]
          },
          "execution_count": 36,
          "metadata": {},
          "output_type": "execute_result"
        }
      ],
      "source": [
        "unique_travel_cities"
      ]
    },
    {
      "cell_type": "markdown",
      "metadata": {
        "id": "RD7aMBXuPUda"
      },
      "source": [
        "And you can see quickly that it differs from the list of top travel cities by checking the length."
      ]
    },
    {
      "cell_type": "code",
      "execution_count": null,
      "metadata": {
        "id": "wt5lCZBQPUda",
        "outputId": "cca14325-d28d-481b-8ce4-89a76d75f674"
      },
      "outputs": [
        {
          "data": {
            "text/plain": [
              "13"
            ]
          },
          "execution_count": 37,
          "metadata": {},
          "output_type": "execute_result"
        }
      ],
      "source": [
        "len(unique_travel_cities)"
      ]
    },
    {
      "cell_type": "code",
      "execution_count": null,
      "metadata": {
        "id": "zuwD8F3CPUda",
        "outputId": "f6d26273-dbc9-4455-906c-9fe1d463bc64"
      },
      "outputs": [
        {
          "data": {
            "text/plain": [
              "14"
            ]
          },
          "execution_count": 38,
          "metadata": {},
          "output_type": "execute_result"
        }
      ],
      "source": [
        "len(top_travel_cities)"
      ]
    },
    {
      "cell_type": "markdown",
      "metadata": {
        "id": "iWWqCVmGPUdb"
      },
      "source": [
        "> **Note:** *For most purposes, Python developers prefer to work with `lists` as opposed to sets, as `lists` are generally easier to manipulate, as you will see in future lessons.*\n",
        "\n",
        "## Summary\n",
        "\n",
        "In this section we saw how to associate data together in a collection, called a list.  A list is similar to a list in the real world - it implies the data has some connection, and that it has an order to it.  We initialize a list with the brackets, `[]`, and separate each element by a comma.  To access elements from a list, we use the bracket accessor followed by the index of the element we want to retrieve, and our indices begin at zero and increase by 1 from there. To add a new element to the end of the list we use the `append` method, and to remove an element from the end of a list we use the `pop` method. We can change elements anywhere between by first accessing the elements and then reassigning them."
      ]
    }
  ],
  "metadata": {
    "kernelspec": {
      "display_name": "Python (learn-env)",
      "language": "python",
      "name": "learn-env"
    },
    "language_info": {
      "codemirror_mode": {
        "name": "ipython",
        "version": 3
      },
      "file_extension": ".py",
      "mimetype": "text/x-python",
      "name": "python",
      "nbconvert_exporter": "python",
      "pygments_lexer": "ipython3",
      "version": "3.8.5"
    },
    "colab": {
      "provenance": [],
      "include_colab_link": true
    }
  },
  "nbformat": 4,
  "nbformat_minor": 0
}